{
 "cells": [
  {
   "cell_type": "code",
   "execution_count": 1,
   "metadata": {
    "collapsed": true,
    "pycharm": {
     "is_executing": false
    }
   },
   "outputs": [],
   "source": [
    "import pandas as pd"
   ]
  },
  {
   "cell_type": "code",
   "execution_count": 2,
   "outputs": [],
   "source": [
    "opendata = pd.read_csv('opendata.csv', encoding='cp1251')"
   ],
   "metadata": {
    "collapsed": false,
    "pycharm": {
     "name": "#%%\n",
     "is_executing": false
    }
   }
  },
  {
   "cell_type": "code",
   "execution_count": 3,
   "outputs": [
    {
     "name": "stdout",
     "text": [
      "<class 'pandas.core.frame.DataFrame'>\n",
      "RangeIndex: 74842 entries, 0 to 74841\n",
      "Data columns (total 4 columns):\n",
      "name      74842 non-null object\n",
      "region    74842 non-null object\n",
      "date      74842 non-null object\n",
      "value     74842 non-null int64\n",
      "dtypes: int64(1), object(3)\n",
      "memory usage: 2.3+ MB\n"
     ],
     "output_type": "stream"
    }
   ],
   "source": [
    "opendata.info()"
   ],
   "metadata": {
    "collapsed": false,
    "pycharm": {
     "name": "#%%\n",
     "is_executing": false
    }
   }
  },
  {
   "cell_type": "code",
   "execution_count": 4,
   "outputs": [
    {
     "data": {
      "text/plain": "array(['Количество заявок на потребительские кредиты',\n       'Средняя сумма заявки на потребительский кредит',\n       'Количество заявок на ипотечные кредиты',\n       'Средняя сумма заявки на ипотечный кредит',\n       'Количество новых депозитов', 'Средняя сумма нового депозита',\n       'Средняя зарплата', 'Средняя пенсия',\n       'В среднем руб. на текущем счете на человека',\n       'В среднем депозитов в руб. на человека',\n       'Средние расходы по картам', 'Средний чек в формате Фастфуд',\n       'Средний чек в формате Ресторан',\n       'Средние траты в ресторане фастфуд', 'Средние траты в ресторане'],\n      dtype=object)"
     },
     "metadata": {},
     "output_type": "execute_result",
     "execution_count": 4
    }
   ],
   "source": [
    "opendata.name.unique()"
   ],
   "metadata": {
    "collapsed": false,
    "pycharm": {
     "name": "#%%\n",
     "is_executing": false
    }
   }
  },
  {
   "cell_type": "code",
   "execution_count": 5,
   "outputs": [],
   "source": [
    "datasets = {}"
   ],
   "metadata": {
    "collapsed": false,
    "pycharm": {
     "name": "#%%\n",
     "is_executing": false
    }
   }
  },
  {
   "cell_type": "code",
   "execution_count": 6,
   "outputs": [
    {
     "name": "stderr",
     "text": [
      "/Users/kosmosivanov/git-repo/Parsing/virt_env/lib/python3.8/site-packages/pandas/core/frame.py:4110: SettingWithCopyWarning: \n",
      "A value is trying to be set on a copy of a slice from a DataFrame\n",
      "\n",
      "See the caveats in the documentation: http://pandas.pydata.org/pandas-docs/stable/user_guide/indexing.html#returning-a-view-versus-a-copy\n",
      "  return super().drop(\n"
     ],
     "output_type": "stream"
    }
   ],
   "source": [
    "for value in opendata.name.unique():\n",
    "    datasets[value] = opendata[opendata.name == value]\n",
    "    datasets[value].drop(columns='name', inplace=True)"
   ],
   "metadata": {
    "collapsed": false,
    "pycharm": {
     "name": "#%%\n",
     "is_executing": false
    }
   }
  },
  {
   "cell_type": "code",
   "execution_count": 7,
   "outputs": [
    {
     "data": {
      "text/plain": "array(['Россия', 'Алтайский край', 'Амурская область',\n       'Архангельская область', 'Астраханская область',\n       'Белгородская область', 'Брянская область', 'Владимирская область',\n       'Волгоградская область', 'Вологодская область',\n       'Воронежская область', 'Еврейская автономная область',\n       'Забайкальский край', 'Ивановская область', 'Иркутская область',\n       'Кабардино-Балкарская Республика', 'Калининградская область',\n       'Калужская область', 'Камчатский край', 'Кемеровская область',\n       'Кировская область', 'Костромская область', 'Краснодарский край',\n       'Красноярский край', 'Курганская область', 'Курская область',\n       'Ленинградская область', 'Липецкая область', 'Магаданская область',\n       'Москва', 'Московская область', 'Мурманская область',\n       'Ненецкий автономный округ', 'Нижегородская область',\n       'Новгородская область', 'Новосибирская область', 'Омская область',\n       'Оренбургская область', 'Орловская область', 'Пензенская область',\n       'Пермский край', 'Приморский край', 'Псковская область',\n       'Республика Адыгея', 'Республика Алтай (Горный Алтай)',\n       'Республика Башкортостан', 'Республика Бурятия',\n       'Республика Дагестан', 'Республика Ингушетия',\n       'Республика Калмыкия', 'Республика Карачаево-Черкессия',\n       'Республика Карелия', 'Республика Коми', 'Республика Марий Эл',\n       'Республика Мордовия', 'Республика Саха (Якутия)',\n       'Республика Северная Осетия-Алания', 'Республика Татарстан',\n       'Республика Тыва', 'Республика Хакасия', 'Ростовская область',\n       'Рязанская область', 'Самарская область', 'Санкт-Петербург',\n       'Саратовская область', 'Сахалинская область',\n       'Свердловская область', 'Смоленская область',\n       'Ставропольский край', 'Тамбовская область', 'Тверская область',\n       'Томская область', 'Тульская область', 'Тюменская область',\n       'Удмуртская Республика', 'Ульяновская область', 'Хабаровский край',\n       'Ханты-Мансийский автономный округ — Югра', 'Челябинская область',\n       'Чеченская Республика', 'Чувашская Республика',\n       'Чукотский автономный округ', 'Ямало-Ненецкий автономный округ',\n       'Ярославская область'], dtype=object)"
     },
     "metadata": {},
     "output_type": "execute_result",
     "execution_count": 7
    }
   ],
   "source": [],
   "metadata": {
    "collapsed": false,
    "pycharm": {
     "name": "#%%\n",
     "is_executing": false
    }
   }
  },
  {
   "cell_type": "code",
   "execution_count": null,
   "outputs": [],
   "source": [
    "\n"
   ],
   "metadata": {
    "collapsed": false,
    "pycharm": {
     "name": "#%%\n"
    }
   }
  }
 ],
 "metadata": {
  "kernelspec": {
   "display_name": "Python 3",
   "language": "python",
   "name": "python3"
  },
  "language_info": {
   "codemirror_mode": {
    "name": "ipython",
    "version": 2
   },
   "file_extension": ".py",
   "mimetype": "text/x-python",
   "name": "python",
   "nbconvert_exporter": "python",
   "pygments_lexer": "ipython2",
   "version": "2.7.6"
  },
  "pycharm": {
   "stem_cell": {
    "cell_type": "raw",
    "source": [],
    "metadata": {
     "collapsed": false
    }
   }
  }
 },
 "nbformat": 4,
 "nbformat_minor": 0
}