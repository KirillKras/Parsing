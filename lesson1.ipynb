{
 "cells": [
  {
   "cell_type": "code",
   "execution_count": 2,
   "metadata": {
    "collapsed": true,
    "pycharm": {
     "is_executing": false
    }
   },
   "outputs": [],
   "source": [
    "import requests\n",
    "import json"
   ]
  },
  {
   "cell_type": "markdown",
   "source": [
    "### Задание 1\n",
    "Посмотреть документацию к API GitHub, разобраться как вывести список репозиториев для конкретного пользователя,  \n",
    "сохранить JSON-вывод в файле *.json."
   ],
   "metadata": {
    "collapsed": false,
    "pycharm": {
     "name": "#%% md\n"
    }
   }
  },
  {
   "cell_type": "markdown",
   "source": [
    "Задаем токен авторизации и имя интересующего пользователя:"
   ],
   "metadata": {
    "collapsed": false,
    "pycharm": {
     "name": "#%% md\n"
    }
   }
  },
  {
   "cell_type": "code",
   "execution_count": 74,
   "outputs": [],
   "source": [
    "MY_TOKEN = '22773aed5285eb57f4cbe657c0b1bc0fe7036789'\n",
    "user = 'KirillKras'"
   ],
   "metadata": {
    "collapsed": false,
    "pycharm": {
     "name": "#%%\n",
     "is_executing": false
    }
   }
  },
  {
   "cell_type": "markdown",
   "source": [
    "Создаем объект сессии с указанным токеном авторизации"
   ],
   "metadata": {
    "collapsed": false,
    "pycharm": {
     "name": "#%% md\n"
    }
   }
  },
  {
   "cell_type": "code",
   "execution_count": 49,
   "outputs": [],
   "source": [
    "session = requests.Session()\n",
    "session.headers['Authorization'] = f'bearer {MY_TOKEN}'"
   ],
   "metadata": {
    "collapsed": false,
    "pycharm": {
     "name": "#%%\n",
     "is_executing": false
    }
   }
  },
  {
   "cell_type": "markdown",
   "source": [
    "Так как, согласно схеме валидации, запрос GraphQL API на получение репозиториев пользователя должен содержать информацию  \n",
    "о количестве запрашиваемых репозиториев, сначала формируем запрос на получение количества репозитриев: "
   ],
   "metadata": {
    "collapsed": false,
    "pycharm": {
     "name": "#%% md\n"
    }
   }
  },
  {
   "cell_type": "code",
   "execution_count": 101,
   "outputs": [],
   "source": [
    "query_count = '''\n",
    "{\n",
    "    user(login: \"%s\"){\n",
    "        repositories {\n",
    "            totalCount\n",
    "        }\n",
    "    }\n",
    "}\n",
    "''' % (user)"
   ],
   "metadata": {
    "collapsed": false,
    "pycharm": {
     "name": "#%%\n",
     "is_executing": false
    }
   }
  },
  {
   "cell_type": "markdown",
   "source": [
    "Выполняем запрос типа Query через объект сессии:"
   ],
   "metadata": {
    "collapsed": false,
    "pycharm": {
     "name": "#%% md\n"
    }
   }
  },
  {
   "cell_type": "code",
   "execution_count": 109,
   "outputs": [],
   "source": [
    "response = session.post('https://api.github.com/graphql', json={'query': query_count})"
   ],
   "metadata": {
    "collapsed": false,
    "pycharm": {
     "name": "#%%\n",
     "is_executing": false
    }
   }
  },
  {
   "cell_type": "markdown",
   "source": [
    "В полученном ответе, есои он был успешным, получаем количество репозиториев:"
   ],
   "metadata": {
    "collapsed": false,
    "pycharm": {
     "name": "#%% md\n"
    }
   }
  },
  {
   "cell_type": "code",
   "execution_count": 110,
   "outputs": [
    {
     "name": "stdout",
     "text": [
      "У пользователя KirillKras количество репозиториев - 11\n"
     ],
     "output_type": "stream"
    }
   ],
   "source": [
    "if response.ok:\n",
    "    json_count = response.json()\n",
    "    total_count = json_count['data']['user']['repositories']['totalCount']\n",
    "print(f'У пользователя {user} количество репозиториев - {total_count}')"
   ],
   "metadata": {
    "collapsed": false,
    "pycharm": {
     "name": "#%% \n",
     "is_executing": false
    }
   }
  },
  {
   "cell_type": "markdown",
   "source": [
    "Формируем запрос на получение репозиториев по имени пользователя и ранее установленному количеству,  \n",
    "получаем имя репозитория, его краткое описание и реального владельца репозитория если форк:"
   ],
   "metadata": {
    "collapsed": false,
    "pycharm": {
     "name": "#%% md\n"
    }
   }
  },
  {
   "cell_type": "code",
   "execution_count": 105,
   "outputs": [],
   "source": [
    "query_repos = '''\n",
    "{\n",
    "    user(login: \"%s\"){\n",
    "        repositories (first: %s) {\n",
    "            edges {\n",
    "                node {\n",
    "                    name\n",
    "                    description\n",
    "                    parent {\n",
    "                        owner {\n",
    "                            login\n",
    "                        }\n",
    "                    }\n",
    "                }\n",
    "            }\n",
    "        }\n",
    "    }\n",
    "}\n",
    "''' % (user, total_count)"
   ],
   "metadata": {
    "collapsed": false,
    "pycharm": {
     "name": "#%%\n",
     "is_executing": false
    }
   }
  },
  {
   "cell_type": "markdown",
   "source": [
    "Выполняем запрос типа Query через объект сессии:"
   ],
   "metadata": {
    "collapsed": false,
    "pycharm": {
     "name": "#%% md\n"
    }
   }
  },
  {
   "cell_type": "code",
   "execution_count": 112,
   "outputs": [],
   "source": [
    "response = session.post('https://api.github.com/graphql', json={'query': query_repos})"
   ],
   "metadata": {
    "collapsed": false,
    "pycharm": {
     "name": "#%%\n",
     "is_executing": false
    }
   }
  },
  {
   "cell_type": "markdown",
   "source": [
    "Получаем ответ и выводим результаты в зависимости от наличия запрошенных полей: "
   ],
   "metadata": {
    "collapsed": false,
    "pycharm": {
     "name": "#%% md\n"
    }
   }
  },
  {
   "cell_type": "code",
   "execution_count": 113,
   "outputs": [
    {
     "name": "stdout",
     "text": [
      "Список репозиториев пользователя KirillKras:\n",
      "Репозиторий: imagestore \n",
      "\tкраткое описание: Django gallery solution.\n",
      "\tэто форк, реальный владелец hovel\n",
      "Репозиторий: git-repo \n",
      "Репозиторий: alg_les1 \n",
      "\tкраткое описание: Курс алгоритмы, лекция 1\n",
      "Репозиторий: algs_structs \n",
      "\tкраткое описание: Курс \"Алгоритмы и структуры данных\"\n",
      "Репозиторий: python_basic \n",
      "Репозиторий: Python_DS \n",
      "\tкраткое описание: Homework for \"Python Data Science\"\n",
      "Репозиторий: in_math \n",
      "\tкраткое описание: курс \"Введение в высшую математику\"\n",
      "Репозиторий: Linux \n",
      "\tкраткое описание: Курс \"Linux. Рабочая станция\"\n",
      "Репозиторий: matan \n",
      "\tкраткое описание: Введение в математический анализ\n",
      "Репозиторий: TerVer \n",
      "\tкраткое описание: Курс \"Теория вероятности и мат. статистика\"\n",
      "Репозиторий: Parsing \n"
     ],
     "output_type": "stream"
    }
   ],
   "source": [
    "print(f'Список репозиториев пользователя {user}:')\n",
    "json_repos = response.json()\n",
    "for edge in json_repos['data']['user']['repositories']['edges']:\n",
    "    result = f\"Репозиторий: {edge['node']['name']} \"\n",
    "    if edge['node']['description']:\n",
    "        result += f\"\\n\\tкраткое описание: {edge['node']['description']}\"\n",
    "    if edge['node']['parent']:\n",
    "        result += f\"\\n\\tэто форк, реальный владелец {edge['node']['parent']['owner']['login']}\"\n",
    "    print(result)"
   ],
   "metadata": {
    "collapsed": false,
    "pycharm": {
     "name": "#%%\n",
     "is_executing": false
    }
   }
  },
  {
   "cell_type": "markdown",
   "source": [
    "Сохраняем ответ в файл в формате json:"
   ],
   "metadata": {
    "collapsed": false,
    "pycharm": {
     "name": "#%% md\n"
    }
   }
  },
  {
   "cell_type": "code",
   "execution_count": 126,
   "outputs": [],
   "source": [
    "with open(f'{user}_repos.json', 'w') as f:\n",
    "    f.write(json.dumps(['query_repos', json_repos], indent=4))"
   ],
   "metadata": {
    "collapsed": false,
    "pycharm": {
     "name": "#%%\n",
     "is_executing": false
    }
   }
  },
  {
   "cell_type": "code",
   "execution_count": null,
   "outputs": [],
   "source": [
    "\n"
   ],
   "metadata": {
    "collapsed": false,
    "pycharm": {
     "name": "#%%\n"
    }
   }
  }
 ],
 "metadata": {
  "kernelspec": {
   "name": "pycharm-bbfbe7f1",
   "language": "python",
   "display_name": "PyCharm (untitled)"
  },
  "language_info": {
   "codemirror_mode": {
    "name": "ipython",
    "version": 2
   },
   "file_extension": ".py",
   "mimetype": "text/x-python",
   "name": "python",
   "nbconvert_exporter": "python",
   "pygments_lexer": "ipython2",
   "version": "2.7.6"
  },
  "pycharm": {
   "stem_cell": {
    "cell_type": "raw",
    "source": [],
    "metadata": {
     "collapsed": false
    }
   }
  }
 },
 "nbformat": 4,
 "nbformat_minor": 0
}