{
 "cells": [
  {
   "cell_type": "code",
   "execution_count": 1,
   "metadata": {
    "collapsed": true,
    "pycharm": {
     "is_executing": false
    }
   },
   "outputs": [],
   "source": [
    "import random\n",
    "import requests\n",
    "import json\n",
    "import ssl\n",
    "import websocket"
   ]
  },
  {
   "cell_type": "markdown",
   "metadata": {
    "pycharm": {
     "name": "#%% md\n"
    }
   },
   "source": [
    "### Задание 1\n",
    "Посмотреть документацию к API GitHub, разобраться как вывести список репозиториев для конкретного пользователя,  \n",
    "сохранить JSON-вывод в файле *.json."
   ]
  },
  {
   "cell_type": "markdown",
   "metadata": {
    "pycharm": {
     "name": "#%% md\n"
    }
   },
   "source": [
    "Задаем токен авторизации и имя интересующего пользователя:"
   ]
  },
  {
   "cell_type": "code",
   "execution_count": 74,
   "metadata": {
    "pycharm": {
     "is_executing": false,
     "name": "#%%\n"
    }
   },
   "outputs": [],
   "source": [
    "MY_TOKEN = ''\n",
    "user = 'KirillKras'"
   ]
  },
  {
   "cell_type": "markdown",
   "metadata": {
    "pycharm": {
     "name": "#%% md\n"
    }
   },
   "source": [
    "Создаем объект сессии с указанным токеном авторизации"
   ]
  },
  {
   "cell_type": "code",
   "execution_count": 49,
   "metadata": {
    "pycharm": {
     "is_executing": false,
     "name": "#%%\n"
    }
   },
   "outputs": [],
   "source": [
    "session = requests.Session()\n",
    "session.headers['Authorization'] = f'bearer {MY_TOKEN}'"
   ]
  },
  {
   "cell_type": "markdown",
   "metadata": {
    "pycharm": {
     "name": "#%% md\n"
    }
   },
   "source": [
    "Так как, согласно схеме валидации, запрос GraphQL API на получение репозиториев пользователя должен содержать информацию  \n",
    "о количестве запрашиваемых репозиториев, сначала формируем запрос на получение количества репозитриев: "
   ]
  },
  {
   "cell_type": "code",
   "execution_count": 101,
   "metadata": {
    "pycharm": {
     "is_executing": false,
     "name": "#%%\n"
    }
   },
   "outputs": [],
   "source": [
    "query_count = '''\n",
    "{\n",
    "    user(login: \"%s\"){\n",
    "        repositories {\n",
    "            totalCount\n",
    "        }\n",
    "    }\n",
    "}\n",
    "''' % (user)"
   ]
  },
  {
   "cell_type": "markdown",
   "metadata": {
    "pycharm": {
     "name": "#%% md\n"
    }
   },
   "source": [
    "Выполняем запрос типа Query через объект сессии:"
   ]
  },
  {
   "cell_type": "code",
   "execution_count": 109,
   "metadata": {
    "pycharm": {
     "is_executing": false,
     "name": "#%%\n"
    }
   },
   "outputs": [],
   "source": [
    "response = session.post('https://api.github.com/graphql', json={'query': query_count})"
   ]
  },
  {
   "cell_type": "markdown",
   "metadata": {
    "pycharm": {
     "name": "#%% md\n"
    }
   },
   "source": [
    "В полученном ответе, есои он был успешным, получаем количество репозиториев:"
   ]
  },
  {
   "cell_type": "code",
   "execution_count": 110,
   "metadata": {
    "pycharm": {
     "is_executing": false,
     "name": "#%% \n"
    }
   },
   "outputs": [
    {
     "name": "stdout",
     "output_type": "stream",
     "text": [
      "У пользователя KirillKras количество репозиториев - 11\n"
     ]
    }
   ],
   "source": [
    "if response.ok:\n",
    "    json_count = response.json()\n",
    "    total_count = json_count['data']['user']['repositories']['totalCount']\n",
    "print(f'У пользователя {user} количество репозиториев - {total_count}')"
   ]
  },
  {
   "cell_type": "markdown",
   "metadata": {
    "pycharm": {
     "name": "#%% md\n"
    }
   },
   "source": [
    "Формируем запрос на получение репозиториев по имени пользователя и ранее установленному количеству,  \n",
    "получаем имя репозитория, его краткое описание и реального владельца репозитория если форк:"
   ]
  },
  {
   "cell_type": "code",
   "execution_count": 105,
   "metadata": {
    "pycharm": {
     "is_executing": false,
     "name": "#%%\n"
    }
   },
   "outputs": [],
   "source": [
    "query_repos = '''\n",
    "{\n",
    "    user(login: \"%s\"){\n",
    "        repositories (first: %s) {\n",
    "            edges {\n",
    "                node {\n",
    "                    name\n",
    "                    description\n",
    "                    parent {\n",
    "                        owner {\n",
    "                            login\n",
    "                        }\n",
    "                    }\n",
    "                }\n",
    "            }\n",
    "        }\n",
    "    }\n",
    "}\n",
    "''' % (user, total_count)"
   ]
  },
  {
   "cell_type": "markdown",
   "metadata": {
    "pycharm": {
     "name": "#%% md\n"
    }
   },
   "source": [
    "Выполняем запрос типа Query через объект сессии:"
   ]
  },
  {
   "cell_type": "code",
   "execution_count": 112,
   "metadata": {
    "pycharm": {
     "is_executing": false,
     "name": "#%%\n"
    }
   },
   "outputs": [],
   "source": [
    "response = session.post('https://api.github.com/graphql', json={'query': query_repos})"
   ]
  },
  {
   "cell_type": "markdown",
   "metadata": {
    "pycharm": {
     "name": "#%% md\n"
    }
   },
   "source": [
    "Получаем ответ и выводим результаты в зависимости от наличия запрошенных полей: "
   ]
  },
  {
   "cell_type": "code",
   "execution_count": 113,
   "metadata": {
    "pycharm": {
     "is_executing": false,
     "name": "#%%\n"
    }
   },
   "outputs": [
    {
     "name": "stdout",
     "output_type": "stream",
     "text": [
      "Список репозиториев пользователя KirillKras:\n",
      "Репозиторий: imagestore \n",
      "\tкраткое описание: Django gallery solution.\n",
      "\tэто форк, реальный владелец hovel\n",
      "Репозиторий: git-repo \n",
      "Репозиторий: alg_les1 \n",
      "\tкраткое описание: Курс алгоритмы, лекция 1\n",
      "Репозиторий: algs_structs \n",
      "\tкраткое описание: Курс \"Алгоритмы и структуры данных\"\n",
      "Репозиторий: python_basic \n",
      "Репозиторий: Python_DS \n",
      "\tкраткое описание: Homework for \"Python Data Science\"\n",
      "Репозиторий: in_math \n",
      "\tкраткое описание: курс \"Введение в высшую математику\"\n",
      "Репозиторий: Linux \n",
      "\tкраткое описание: Курс \"Linux. Рабочая станция\"\n",
      "Репозиторий: matan \n",
      "\tкраткое описание: Введение в математический анализ\n",
      "Репозиторий: TerVer \n",
      "\tкраткое описание: Курс \"Теория вероятности и мат. статистика\"\n",
      "Репозиторий: Parsing \n"
     ]
    }
   ],
   "source": [
    "print(f'Список репозиториев пользователя {user}:')\n",
    "json_repos = response.json()\n",
    "for edge in json_repos['data']['user']['repositories']['edges']:\n",
    "    result = f\"Репозиторий: {edge['node']['name']} \"\n",
    "    if edge['node']['description']:\n",
    "        result += f\"\\n\\tкраткое описание: {edge['node']['description']}\"\n",
    "    if edge['node']['parent']:\n",
    "        result += f\"\\n\\tэто форк, реальный владелец {edge['node']['parent']['owner']['login']}\"\n",
    "    print(result)"
   ]
  },
  {
   "cell_type": "markdown",
   "metadata": {
    "pycharm": {
     "name": "#%% md\n"
    }
   },
   "source": [
    "Сохраняем ответ в файл в формате json:"
   ]
  },
  {
   "cell_type": "code",
   "execution_count": 126,
   "metadata": {
    "pycharm": {
     "is_executing": false,
     "name": "#%%\n"
    }
   },
   "outputs": [],
   "source": [
    "with open(f'{user}_repos.json', 'w') as f:\n",
    "    f.write(json.dumps(['query_repos', json_repos], indent=4))"
   ]
  },
  {
   "cell_type": "markdown",
   "metadata": {
    "pycharm": {
     "name": "#%% md\n"
    }
   },
   "source": [
    "### Задание 2\n",
    "Изучить список открытых API. Найти среди них любое, требующее авторизацию (любого типа).  \n",
    "Выполнить запросы к нему, пройдя авторизацию. Ответ сервера записать в файл."
   ]
  },
  {
   "cell_type": "markdown",
   "metadata": {
    "pycharm": {
     "name": "#%% md\n"
    }
   },
   "source": [
    "Решаемая задача - получение потока новых постов из ВК через VK Stream API  \n",
    "с фильтром по ключевому слову \"Москва\""
   ]
  },
  {
   "cell_type": "markdown",
   "metadata": {
    "pycharm": {
     "name": "#%% md\n"
    }
   },
   "source": [
    "В настройках ВК создаем приложение, получаем сервисный ключ, запускаем его:"
   ]
  },
  {
   "cell_type": "code",
   "execution_count": null,
   "metadata": {
    "pycharm": {
     "name": "#%%\n"
    }
   },
   "outputs": [],
   "source": [
    "vk_token = '...'"
   ]
  },
  {
   "cell_type": "markdown",
   "metadata": {
    "pycharm": {
     "name": "#%% md\n"
    }
   },
   "source": [
    "По ключу получаем от ВК сервер и токен потока:"
   ]
  },
  {
   "cell_type": "code",
   "execution_count": 2,
   "metadata": {
    "pycharm": {
     "is_executing": false,
     "name": "#%%\n"
    }
   },
   "outputs": [
    {
     "name": "stdout",
     "output_type": "stream",
     "text": [
      "EndPoint: streaming.vk.com,\n",
      "Key: 960dbc354c7d4fdeda4c1193c358233ab1896a16\n"
     ]
    }
   ],
   "source": [
    "url = f'https://api.vk.com/method/streaming.getServerUrl?v=5.64&access_token={vk_token}'\n",
    "response = requests.get(url).json()\n",
    "endpoint, key = [response[\"response\"][\"endpoint\"], response[\"response\"][\"key\"]]\n",
    "print(f'EndPoint: {endpoint},\\nKey: {key}')"
   ]
  },
  {
   "cell_type": "markdown",
   "metadata": {
    "pycharm": {
     "name": "#%%\n"
    }
   },
   "source": [
    "Создаем и добавляем правило - фильтр постов по ключевому слову \"Москва\"  \n",
    "и сдучайной меткой правила в диапазоне (11111, 99999)"
   ]
  },
  {
   "cell_type": "code",
   "execution_count": 5,
   "metadata": {
    "pycharm": {
     "is_executing": false,
     "name": "#%%\n"
    }
   },
   "outputs": [
    {
     "name": "stdout",
     "output_type": "stream",
     "text": [
      "Добавление правила True\n"
     ]
    }
   ],
   "source": [
    "value = 'Москва'\n",
    "rule_params = {\n",
    "    'rule': {\n",
    "        'value': value, \n",
    "        'tag': 'tag_' + str(random.randint(11111, 99999))\n",
    "    }\n",
    "}\n",
    "headers = {\n",
    "    'content-type': 'application/json'\n",
    "}\n",
    "response_json = requests.post(f'https://{endpoint}/rules?key={key}', \n",
    "                              data=json.dumps(rule_params), headers=headers).json()\n",
    "print(f'Добавление правила {response_json[\"code\"] == 200}')"
   ]
  },
  {
   "cell_type": "markdown",
   "metadata": {},
   "source": [
    "Создание обработчиков событий websocket:"
   ]
  },
  {
   "cell_type": "code",
   "execution_count": 6,
   "metadata": {
    "pycharm": {
     "is_executing": false,
     "name": "#%%\n"
    }
   },
   "outputs": [],
   "source": [
    "def on_message(ws, message):\n",
    "    print(f'Получено сообщение: {message}')\n",
    "    \n",
    "def on_error(ws, error):\n",
    "    print(f'Получена ошибка: {error}')\n",
    "    \n",
    "def on_open(ws):\n",
    "    print('Поток открыт')\n",
    "    \n",
    "def on_close(ws):\n",
    "    print('Поток закрыт')"
   ]
  },
  {
   "cell_type": "markdown",
   "metadata": {},
   "source": [
    "Создание объекта websocket по ранее полученным серверу и токену потока, обработчикам событий. \n",
    "На ВК Streaming API работает только по WSS, поэтому необходима передача параметров SSL.  \n",
    "Запускаем websocket получаем сообщения по заданному фильтру"
   ]
  },
  {
   "cell_type": "code",
   "execution_count": 7,
   "metadata": {
    "pycharm": {
     "is_executing": false,
     "name": "#%%\n"
    }
   },
   "outputs": [
    {
     "name": "stderr",
     "output_type": "stream",
     "text": [
      "--- request header ---\n",
      "GET /stream?key=960dbc354c7d4fdeda4c1193c358233ab1896a16 HTTP/1.1\r\n",
      "Upgrade: websocket\r\n",
      "Connection: Upgrade\r\n",
      "Host: streaming.vk.com\r\n",
      "Origin: http://streaming.vk.com\r\n",
      "Sec-WebSocket-Key: VtIwCuVAcqdxPPFa3vXVRA==\r\n",
      "Sec-WebSocket-Version: 13\r\n",
      "\r\n",
      "\n",
      "-----------------------\n",
      "--- response header ---\n",
      "HTTP/1.1 101 Switching Protocols\n",
      "Server: nginx/1.12.1\n",
      "Date: Mon, 16 Dec 2019 12:17:56 GMT\n",
      "Connection: upgrade\n",
      "Upgrade: websocket\n",
      "Sec-WebSocket-Accept: 2NYEPSGPtzzALV+QDn/n18EZJ98=\n",
      "-----------------------\n",
      "send: b'\\x8a\\x80\\xb5~\\x92\\x95'\n",
      "send: b'\\x8a\\x80\\x9e\\xdd\\xf3\\xb1'\n",
      "send: b'\\x8a\\x80\\xaf\\x19\\xdbq'\n",
      "send: b'\\x8a\\x80\\xc5Fb*'\n",
      "send: b'\\x8a\\x808?\\xf3\\xf5'\n",
      "send: b'\\x88\\x82\\x93l\\xbf\\x12\\x90\\x84'\n"
     ]
    },
    {
     "name": "stdout",
     "output_type": "stream",
     "text": [
      "Поток открыт\n",
      "Получено сообщение: {\"code\":100,\"event\":{\"action\":\"new\",\"action_time\":1576498731,\"author\":{\"author_url\":\"https://vk.com/id445794643\",\"id\":445794643,\"platform\":7},\"creation_time\":1576498731,\"event_id\":{\"topic_owner_id\":-49815148,\"topic_id\":34678244,\"topic_post_id\":134849},\"event_type\":\"topic_post\",\"event_url\":\"https://vk.com/topic-49815148_34678244?post=134849\",\"tags\":[\"tag_19797\",\"tag_56038\",\"tag_73345\",\"tag_78713\"],\"text\":\"🎄🎁🎄 Пассажирские перевозки в ✔КРЫМ✔РОССИЮ✔АБХАЗИЮ✔УКРАИНУ✔ГРУЗИЮ✔АРМЕНИЮ✔БЕЛАРУСЬ регулярно на комфортабельных автобусах из Донецка и области, бронируем места на обратную дорогу. Детям - скидки. Только официальные перевозчики&#33; Только опытные водители&#33; ☎ 071-335-00-22 + Viber. Водафон 095-353-37-34. 🎄🎁🎄\\u003cbr\\u003eСУПЕРЦЕНА&#33; КРЫМ - от 1600 руб. РОСТОВ - от 550 руб. МОСКВА, ТУЛА - от 1300 руб. \\u003cbr\\u003e🇷🇺-МОСКВА - от 1300 руб. \\u003cbr\\u003e🇷🇺-ВОРОНЕЖ - 1200 руб. \\u003cbr\\u003e🇷🇺-ТУЛА - от 1300 руб. \\u003cbr\\u003e\\u003cbr\\u003e🇷🇺-Таганрог - 600 руб. \\u003cbr\\u003e🇷🇺-Ростов - от 550 руб.\\u003cbr\\u003e🇷🇺-Санкт-Петербург - 3400 руб.\\u003cbr\\u003e🇷🇺-Великий Новгород - 3200 руб.\\u003cbr\\u003e🇷🇺-Тверь - 3000 руб.\\u003cbr\\u003e\\u003cbr\\u003e🇷🇺-Курск - 2000 руб. \\u003cbr\\u003e🇷🇺-Орел - 1800 руб. \\u003cbr\\u003e🇷🇺-Брянск - 2000 руб.\\u003cbr\\u003e🇷🇺-Ливны - 1600 руб.\\u003cbr\\u003e🇷🇺-Елец - 1600 руб.\\u003cbr\\u003e🇷🇺-Белгород - от 1700 руб. \\u003cbr\\u003e🇷🇺-Богучар - 1700 руб. \\u003cbr\\u003e🇷🇺-Россошь - 1700 руб.\\u003cbr\\u003e🇷🇺-Алексеевка - 1700 руб. \\u003cbr\\u003e🇷🇺-Новый Оскол - 1700 руб.\\u003cbr\\u003e🇷🇺-Короча - 1800 руб. \\u003cbr\\u003e🇷🇺-Губкин - 1800 руб. \\u003cbr\\u003e🇷🇺-Старый Оскол - 1900 руб.\\u003cbr\\u003e\\u003cbr\\u003e🇷🇺-Саратов - 2500 руб. \\u003cbr\\u003e🇷🇺-Тольятти - 3300 руб. \\u003cbr\\u003e🇷🇺-Самара - 3300 руб. \\u003cbr\\u003e🇷🇺-Казань - 3800 руб.\\u003cbr\\u003e🇷🇺-Тамбов - 2500 руб. \\u003cbr\\u003e🇷🇺-Пенза - 3000 руб. \\u003cbr\\u003e🇷🇺-Нижний Новгород - 3500 руб.\\u003cbr\\u003e🇷🇺-Волгоград - 1700 руб.\\u003cbr\\u003e🇷🇺-Смоленск - 3000 руб.\\u003cbr\\u003e🇷🇺-Липецк - 1600 руб.\\u003cbr\\u003e\\u003cbr\\u003e📌-Тбилиси, Ереван \\u003cbr\\u003e\\u003cbr\\u003e🐳🌴🐳 КРЫМ 🐳🌴🐳 от 1600 руб. (возможна передача сумок, документов)\\u003cbr\\u003e🇷🇺-Симферополь \\u003cbr\\u003e🇷🇺-Севастополь \\u003cbr\\u003e🇷🇺-Ялта \\u003cbr\\u003e🇷🇺-Алушта \\u003cbr\\u003e🇷🇺-Феодосия \\u003cbr\\u003e🇷🇺-Керчь \\u003cbr\\u003e🇷🇺-Судак\\u003cbr\\u003e🇷🇺-Алупка\\u003cbr\\u003e🇷🇺-Темрюк\\u003cbr\\u003e🇷🇺-Тимашевск\\u003cbr\\u003e🇷🇺-Славянск-на-Кубани\\u003cbr\\u003e🇷🇺-Белогорск\\u003cbr\\u003e🇷🇺-Партенит\\u003cbr\\u003e🇷🇺-Форос\\u003cbr\\u003e\\u003cbr\\u003e(цены уточняйте)\\u003cbr\\u003e\\u003cbr\\u003e🇷🇺-Краснодар - от 1100 руб.\\u003cbr\\u003e🇷🇺-Анапа - от 1500 руб.\\u003cbr\\u003e🇷🇺-Новороссийск - от 1400 руб.\\u003cbr\\u003e🇷🇺-Геленджик, Кабардинка - от 1600 руб.\\u003cbr\\u003e🇷🇺-Сочи, Лоо, Лазаревское, Адлер - 2200 руб.\\u003cbr\\u003e🇷🇺-Джубга, Туапсе - 2000 руб.\\u003cbr\\u003e🇷🇺-Псоу - 2400 руб.\\u003cbr\\u003e\\u003cbr\\u003e- Минск-Гомель-Бобруйск \\u003cbr\\u003e\\u003cbr\\u003e🇺🇦 Украина (при наличии пропуска):\\u003cbr\\u003e-Киев \\u003cbr\\u003e-Мариуполь \\u003cbr\\u003e-Запорожье \\u003cbr\\u003e-Днепр \\u003cbr\\u003e-Славянск Артемовск Константиновка\\u003cbr\\u003e-Краматорск Дружковка\\u003cbr\\u003eВ автобусах удобные сидения, полки для ручной клади, системы кондиционирования, TV/DVD, \\u003cbr\\u003eна многих рейсах есть WI-FI.\\u003cbr\\u003e\\u003cbr\\u003e🎄🎁🎄 Расписание смотрите в нашей группе \\u003cbr\\u003e🚌 Пассажирские перевозки из ДОНЕЦКА в РОССИЮ&#33; 🚌 AVTOclassBUS\\u003cbr\\u003e https://vk.com/club117205734\\u003cbr\\u003e(закрепленная запись на моей страничке)✅ \\u003cbr\\u003e✍🏻 Бронирование и консультации по телефонам \\u003cbr\\u003e☎ 071-335-00-22 + Viber\\u003cbr\\u003e☎ 095-353-37-34\\u003cbr\\u003eЛариса 🎄🎁🎄 \\u003cbr\\u003e\\u003cbr\\u003eЗвоните заранее, количество мест к Новогодним и Рождественским праздникам ограничено&#33;\"}}\n",
      "Получено сообщение: {\"code\":300,\"service_message\":{\"message\":\"Pong wait timeout\",\"service_code\":3001}}\n",
      "Поток закрыт\n"
     ]
    }
   ],
   "source": [
    "    \n",
    "websocket.enableTrace(True)\n",
    "ws = websocket.WebSocketApp(f'wss://{endpoint}/stream?key={key}',                             \n",
    "                            on_message=on_message,\n",
    "                            on_error=on_error,\n",
    "                            on_open=on_open,\n",
    "                            )\n",
    "ws.on_close=on_close\n",
    "ws.run_forever(sslopt={\"cert_reqs\": ssl.CERT_NONE})"
   ]
  },
  {
   "cell_type": "code",
   "execution_count": null,
   "metadata": {
    "pycharm": {
     "name": "#%%\n"
    }
   },
   "outputs": [],
   "source": [
    "\n"
   ]
  }
 ],
 "metadata": {
  "kernelspec": {
   "display_name": "PyCharm (Parsing)",
   "language": "python",
   "name": "pycharm-3c020d35"
  },
  "language_info": {
   "codemirror_mode": {
    "name": "ipython",
    "version": 3
   },
   "file_extension": ".py",
   "mimetype": "text/x-python",
   "name": "python",
   "nbconvert_exporter": "python",
   "pygments_lexer": "ipython3",
   "version": "3.8.0"
  },
  "pycharm": {
   "stem_cell": {
    "cell_type": "raw",
    "metadata": {
     "collapsed": false
    },
    "source": []
   }
  }
 },
 "nbformat": 4,
 "nbformat_minor": 1
}
